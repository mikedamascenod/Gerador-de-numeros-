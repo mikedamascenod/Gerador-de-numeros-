{
 "cells": [
  {
   "cell_type": "code",
   "execution_count": 1,
   "metadata": {},
   "outputs": [
    {
     "name": "stdout",
     "output_type": "stream",
     "text": [
      "Quantos jogos vc quer jogar ?: 5\n",
      " jogo 1: [12, 19, 37, 38, 48, 50]\n",
      " jogo 2: [6, 32, 34, 46, 49, 56]\n",
      " jogo 3: [4, 12, 15, 32, 47, 59]\n",
      " jogo 4: [10, 23, 33, 41, 47, 59]\n",
      " jogo 5: [16, 22, 43, 49, 50, 54]\n"
     ]
    }
   ],
   "source": [
    "# Gerador de numeros para quem quer apostar megasena.\n",
    "\n",
    "from random import sample\n",
    "from time import sleep\n",
    "\n",
    "jogos = list()\n",
    "n = int(input('Quantos jogos vc quer jogar ?: '))\n",
    "for c in range(n):\n",
    "    a = sorted(sample(range(1, 61), 6))\n",
    "    jogos.append(a[:])\n",
    "    print(f' jogo {c + 1}: {a}')\n",
    "    sleep(0.85)\n"
   ]
  },
  {
   "cell_type": "code",
   "execution_count": null,
   "metadata": {},
   "outputs": [],
   "source": []
  }
 ],
 "metadata": {
  "kernelspec": {
   "display_name": "Python 3",
   "language": "python",
   "name": "python3"
  },
  "language_info": {
   "codemirror_mode": {
    "name": "ipython",
    "version": 3
   },
   "file_extension": ".py",
   "mimetype": "text/x-python",
   "name": "python",
   "nbconvert_exporter": "python",
   "pygments_lexer": "ipython3",
   "version": "3.7.3"
  }
 },
 "nbformat": 4,
 "nbformat_minor": 2
}
